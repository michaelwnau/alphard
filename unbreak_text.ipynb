{
  "nbformat": 4,
  "nbformat_minor": 0,
  "metadata": {
    "colab": {
      "provenance": [],
      "mount_file_id": "12evs3fy7_e_6cwJYG0rHeXpWFUNtDLw6",
      "authorship_tag": "ABX9TyPcqfSGW4JjsDJCfn+FXMnl",
      "include_colab_link": true
    },
    "kernelspec": {
      "name": "python3",
      "display_name": "Python 3"
    },
    "language_info": {
      "name": "python"
    }
  },
  "cells": [
    {
      "cell_type": "markdown",
      "metadata": {
        "id": "view-in-github",
        "colab_type": "text"
      },
      "source": [
        "<a href=\"https://colab.research.google.com/github/michaelwnau/alphard/blob/main/unbreak_text.ipynb\" target=\"_parent\"><img src=\"https://colab.research.google.com/assets/colab-badge.svg\" alt=\"Open In Colab\"/></a>"
      ]
    },
    {
      "cell_type": "markdown",
      "source": [
        "This notebook removes all line break formatting from a .txt file."
      ],
      "metadata": {
        "id": "oWVheUU9fwSo"
      }
    },
    {
      "cell_type": "code",
      "source": [
        "from google.colab import drive\n",
        "drive.mount('/content/drive')"
      ],
      "metadata": {
        "id": "ookAxdA_a__h",
        "colab": {
          "base_uri": "https://localhost:8080/"
        },
        "outputId": "b1a42d6a-ea8f-44dd-c3c1-40aff3fd7ec6"
      },
      "execution_count": 27,
      "outputs": [
        {
          "output_type": "stream",
          "name": "stdout",
          "text": [
            "Drive already mounted at /content/drive; to attempt to forcibly remount, call drive.mount(\"/content/drive\", force_remount=True).\n"
          ]
        }
      ]
    },
    {
      "cell_type": "code",
      "execution_count": 28,
      "metadata": {
        "id": "-G4ndah0Zkfr"
      },
      "outputs": [],
      "source": [
        "# Import necessary libraries\n",
        "import os\n",
        "from google.colab import files"
      ]
    },
    {
      "cell_type": "code",
      "source": [
        "# Step 1: Ingest a .txt file\n",
        "file_path = input(\"Please enter the path to your .txt file: \")\n",
        "with open(file_path, 'r') as file:\n",
        "    data = file.read()"
      ],
      "metadata": {
        "colab": {
          "base_uri": "https://localhost:8080/"
        },
        "id": "NxPPDPxxZ3eD",
        "outputId": "c96ca1aa-b7f7-45eb-807c-c30d17737884"
      },
      "execution_count": 29,
      "outputs": [
        {
          "name": "stdout",
          "output_type": "stream",
          "text": [
            "Please enter the path to your .txt file: /content/drive/MyDrive/transcript-1.txt\n"
          ]
        }
      ]
    },
    {
      "cell_type": "code",
      "source": [
        "# Step 2: Remove all line breaks\n",
        "data = data.replace('\\n', ' ')"
      ],
      "metadata": {
        "id": "ruGnD145Z9TV"
      },
      "execution_count": 30,
      "outputs": []
    },
    {
      "cell_type": "code",
      "source": [
        "# Step 3: Save the file locally\n",
        "local_file_path = \"temp.txt\"\n",
        "with open(local_file_path, 'w') as file:\n",
        "    file.write(data)\n",
        "\n",
        "# Step 3: Prompt the user to enter a filename and save the file\n",
        "# filename = input(\"Please enter a filename for the new file (without extension): \") + \".txt\"\n",
        "# with open(filename, 'w') as file:\n",
        "#     file.write(data)    "
      ],
      "metadata": {
        "id": "W4cq9ZA1aBqK",
        "colab": {
          "base_uri": "https://localhost:8080/"
        },
        "outputId": "787bfbf7-cb82-4ee1-a95b-f3fc04cbf969"
      },
      "execution_count": 31,
      "outputs": [
        {
          "name": "stdout",
          "output_type": "stream",
          "text": [
            "Please enter a filename for the new file (without extension): transcript-4\n"
          ]
        }
      ]
    },
    {
      "cell_type": "code",
      "source": [
        "# Create a download link for the new file\n",
        "print(\"Click the link below to download the file. You can then save it to your desired location and rename it.\")\n",
        "files.download(local_file_path)"
      ],
      "metadata": {
        "id": "A-h6Y0-qaEQk",
        "colab": {
          "base_uri": "https://localhost:8080/",
          "height": 34
        },
        "outputId": "c5fb4518-eb99-48c7-9abe-c169d9740ed3"
      },
      "execution_count": 32,
      "outputs": [
        {
          "output_type": "stream",
          "name": "stdout",
          "text": [
            "Click the link below to download the file. You can then save it to your desired location and rename it.\n"
          ]
        },
        {
          "output_type": "display_data",
          "data": {
            "text/plain": [
              "<IPython.core.display.Javascript object>"
            ],
            "application/javascript": [
              "\n",
              "    async function download(id, filename, size) {\n",
              "      if (!google.colab.kernel.accessAllowed) {\n",
              "        return;\n",
              "      }\n",
              "      const div = document.createElement('div');\n",
              "      const label = document.createElement('label');\n",
              "      label.textContent = `Downloading \"${filename}\": `;\n",
              "      div.appendChild(label);\n",
              "      const progress = document.createElement('progress');\n",
              "      progress.max = size;\n",
              "      div.appendChild(progress);\n",
              "      document.body.appendChild(div);\n",
              "\n",
              "      const buffers = [];\n",
              "      let downloaded = 0;\n",
              "\n",
              "      const channel = await google.colab.kernel.comms.open(id);\n",
              "      // Send a message to notify the kernel that we're ready.\n",
              "      channel.send({})\n",
              "\n",
              "      for await (const message of channel.messages) {\n",
              "        // Send a message to notify the kernel that we're ready.\n",
              "        channel.send({})\n",
              "        if (message.buffers) {\n",
              "          for (const buffer of message.buffers) {\n",
              "            buffers.push(buffer);\n",
              "            downloaded += buffer.byteLength;\n",
              "            progress.value = downloaded;\n",
              "          }\n",
              "        }\n",
              "      }\n",
              "      const blob = new Blob(buffers, {type: 'application/binary'});\n",
              "      const a = document.createElement('a');\n",
              "      a.href = window.URL.createObjectURL(blob);\n",
              "      a.download = filename;\n",
              "      div.appendChild(a);\n",
              "      a.click();\n",
              "      div.remove();\n",
              "    }\n",
              "  "
            ]
          },
          "metadata": {}
        },
        {
          "output_type": "display_data",
          "data": {
            "text/plain": [
              "<IPython.core.display.Javascript object>"
            ],
            "application/javascript": [
              "download(\"download_d12d8022-770d-4a73-9f30-91e832c13179\", \"temp.txt\", 28287)"
            ]
          },
          "metadata": {}
        }
      ]
    }
  ]
}